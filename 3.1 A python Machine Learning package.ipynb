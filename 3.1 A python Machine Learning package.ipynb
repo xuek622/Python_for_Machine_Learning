{
 "cells": [
  {
   "cell_type": "markdown",
   "metadata": {},
   "source": [
    "<img src=\"figures/NWEA_logo.png\" width=\"200\">"
   ]
  },
  {
   "cell_type": "markdown",
   "metadata": {},
   "source": [
    "# <span style='color:#ffd800' > A Python Machine Learning Package: Scikit-learn </span>"
   ]
  },
  {
   "cell_type": "markdown",
   "metadata": {},
   "source": [
    "## <span style='color:#ffd800'> What is Scikit-learn </span>"
   ]
  },
  {
   "cell_type": "markdown",
   "metadata": {},
   "source": [
    "Scikit-learn is a free machine learning library for the Python programming language."
   ]
  },
  {
   "cell_type": "markdown",
   "metadata": {},
   "source": [
    "<img src='figures/Scikitlearn.png'>"
   ]
  },
  {
   "cell_type": "markdown",
   "metadata": {},
   "source": [
    "## <span style='color:#ffd800'> Why Use Scikit-learn: an example logistic regression </span>"
   ]
  },
  {
   "cell_type": "code",
   "execution_count": 142,
   "metadata": {},
   "outputs": [],
   "source": [
    "import numpy as np\n",
    "import time\n",
    "from sklearn.datasets import load_breast_cancer\n",
    "from sklearn.model_selection import train_test_split\n",
    "from sklearn.metrics import accuracy_score"
   ]
  },
  {
   "cell_type": "code",
   "execution_count": 135,
   "metadata": {},
   "outputs": [],
   "source": [
    "## load data\n",
    "X, y = load_breast_cancer(return_X_y=True)\n",
    "X_train, X_test, y_train, y_test = train_test_split(X, y, test_size=0.2, random_state=123)"
   ]
  },
  {
   "cell_type": "markdown",
   "metadata": {},
   "source": [
    "### <span style='color:#ffd800'> numpy code </span>\n",
    "https://github.com/m4qo5/logistic-regression-numpy.git"
   ]
  },
  {
   "cell_type": "code",
   "execution_count": 136,
   "metadata": {},
   "outputs": [],
   "source": [
    "import numpy as np\n",
    "\n",
    "class LogisticRegression_numpy:\n",
    "    def __init__(self, learning_rate=0.01, num_iter=100, fit_intercept=True, verbose=False):\n",
    "        self.learning_rate = learning_rate  # learning_rate of the algorithm\n",
    "        self.num_iter = num_iter  #  number of iterations of the gradient descent\n",
    "        self.fit_intercept = fit_intercept  # boolean indicating whether we`re adding base X0 feature vector or not\n",
    "        self.verbose = verbose  \n",
    "\n",
    "    def _add_intercept(self, X):\n",
    "        intercept = np.ones((X.shape[0], 1))  #  creating X0 features vector(M x 1)\n",
    "        return np.concatenate((intercept, X), axis=1)  # concatenating X0 features vector with our features making intercept\n",
    "\n",
    "    def _sigmoid(self, z):\n",
    "        '''Defines our \"logit\" function based on which we make predictions\n",
    "           parameters:\n",
    "              z - product of the our features with weights\n",
    "           return:\n",
    "              probability of the attachment to class\n",
    "        '''\n",
    "\n",
    "        return 1 / (1 + np.exp(-z))\n",
    "\n",
    "    def _loss(self, h, y):\n",
    "        '''\n",
    "        Functions have parameters or weights and we want to find the best values for them.\n",
    "        To start we pick random values and we need a way to measure how well the algorithm performs using those random weights.\n",
    "        That measure is computed using the loss function\n",
    "        '''\n",
    "\n",
    "        return (-y * np.log(h) - (1 - y) * np.log(1 - h)).mean()\n",
    "\n",
    "    def train(self, X, y):\n",
    "        '''\n",
    "        Function for training the algorithm.\n",
    "            parameters:\n",
    "              X - input data matrix (all our features without target variable)\n",
    "              y - target variable vector (1/0)\n",
    "            \n",
    "            return:\n",
    "              None\n",
    "        '''\n",
    "\n",
    "        if self.fit_intercept:\n",
    "            X = self._add_intercept(X)  # X will get a result with \"zero\" feature\n",
    "\n",
    "        self._weights = np.zeros(X.shape[1])  #  inicializing our weights vector filled with zeros\n",
    "        \n",
    "        for i in range(self.num_iter):  # implementing Gradient Descent algorithm\n",
    "            z = np.dot(X, self._weights)  #  calculate the product of the weights and predictor matrix\n",
    "            h = self._sigmoid(z)\n",
    "            gradient = np.dot(X.T, (h - y)) / y.size\n",
    "            self._weights -= self.learning_rate * gradient\n",
    "            \n",
    "            if (self.verbose == True and i % 10000 == 0):\n",
    "                z = np.dot(X, self._weights)\n",
    "                h = self._sigmoid(z)\n",
    "                print(f'loss: {self._loss(h, y)} \\t')\n",
    "\n",
    "    def predict_prob(self, X):  \n",
    "        if self.fit_intercept:\n",
    "            X = self._add_intercept(X)\n",
    "    \n",
    "        return self._sigmoid(np.dot(X, self._weights))\n",
    "    \n",
    "    def predict(self, X, threshold):\n",
    "        return self.predict_prob(X) >= threshold"
   ]
  },
  {
   "cell_type": "code",
   "execution_count": 148,
   "metadata": {},
   "outputs": [
    {
     "name": "stderr",
     "output_type": "stream",
     "text": [
      "/Users/kang.xue/opt/anaconda3/envs/ML/lib/python3.7/site-packages/ipykernel_launcher.py:22: RuntimeWarning: overflow encountered in exp\n"
     ]
    },
    {
     "name": "stdout",
     "output_type": "stream",
     "text": [
      "time consuming: 3.903566837310791 classificaton accuracy: 0.9737\n"
     ]
    }
   ],
   "source": [
    "start_time = time.time()\n",
    "logit = LogisticRegression_numpy(learning_rate=0.1, num_iter=200000)\n",
    "logit.train(X_train, y_train)\n",
    "y_pred = [int(round(x)) for x in logit.predict_prob(X_test).flatten()]\n",
    "score = accuracy_score(y_test, y_pred)\n",
    "print('time consuming: '+str(time.time()-start_time), \n",
    "      'classificaton accuracy: '+ str(np.round(score,4)))"
   ]
  },
  {
   "cell_type": "markdown",
   "metadata": {},
   "source": [
    "### <span style='color:#ffd800'> scikit-learn code </span>"
   ]
  },
  {
   "cell_type": "code",
   "execution_count": 147,
   "metadata": {},
   "outputs": [
    {
     "name": "stdout",
     "output_type": "stream",
     "text": [
      "time consuming: 0.45893096923828125 classificaton accuracy: 0.9825\n"
     ]
    }
   ],
   "source": [
    "from sklearn.linear_model import LogisticRegression\n",
    "\n",
    "start_time = time.time()\n",
    "logit = LogisticRegression(max_iter = 200000)\n",
    "logit.fit(X_train, y_train)\n",
    "y_pred = logit.predict(X_test)\n",
    "score = accuracy_score(y_test, y_pred)\n",
    "print('time consuming: '+str(time.time()-start_time), \n",
    "      'classificaton accuracy: '+ str(np.round(score,4)))"
   ]
  },
  {
   "cell_type": "markdown",
   "metadata": {},
   "source": [
    "## <span style='color:#ffd800'> Installation </span>\n",
    "https://scikit-learn.org/stable/install.html"
   ]
  },
  {
   "cell_type": "markdown",
   "metadata": {},
   "source": [
    "#### <span style='color:#ffd800'>  pip installation </span>"
   ]
  },
  {
   "cell_type": "markdown",
   "metadata": {},
   "source": [
    "`$ pip install -U scikit-learn` "
   ]
  },
  {
   "cell_type": "markdown",
   "metadata": {},
   "source": [
    "#### <span style='color:#ffd800'>  conda installation </span>"
   ]
  },
  {
   "cell_type": "markdown",
   "metadata": {},
   "source": [
    "`$ conda install scikit-learn`"
   ]
  }
 ],
 "metadata": {
  "kernelspec": {
   "display_name": "Python 3",
   "language": "python",
   "name": "python3"
  },
  "language_info": {
   "codemirror_mode": {
    "name": "ipython",
    "version": 3
   },
   "file_extension": ".py",
   "mimetype": "text/x-python",
   "name": "python",
   "nbconvert_exporter": "python",
   "pygments_lexer": "ipython3",
   "version": "3.7.7"
  }
 },
 "nbformat": 4,
 "nbformat_minor": 4
}
