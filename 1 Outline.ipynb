{
 "cells": [
  {
   "cell_type": "markdown",
   "metadata": {},
   "source": [
    "<img src=\"figures/NWEA_logo.png\" width=\"200\">"
   ]
  },
  {
   "cell_type": "markdown",
   "metadata": {},
   "source": [
    "# <span style='color:#ffd800'> Introduction of Machine Learning using Python </span>"
   ]
  },
  {
   "cell_type": "markdown",
   "metadata": {},
   "source": [
    "# <span style='color:#ffd800'> Outline </span>\n",
    "\n",
    "+ ## Introduction of Machine Learning Process\n",
    "  \n",
    "+ ## A python Machine Learning Package: Scikit-learn \n",
    "    + ### What is Scikit-Learn\n",
    "    + ### Installation\n",
    "    + ### Load Data and Data Preparation\n",
    "    + ### Select and Train a Model: the scikit learn API\n",
    "    + ### Analysis & Evaluation\n",
    "    + ### Improving and Saving Model\n",
    "+ ## Deep Learning packages: Tensorflow and Pytorch\n",
    "    + ### What are Tensorflow and Pytorch?\n",
    "    + ### Installation\n",
    "    + ### An Example of using Deep Learning for Natural Language Processing\n",
    "+ ## Other Useful Resources"
   ]
  },
  {
   "cell_type": "code",
   "execution_count": null,
   "metadata": {},
   "outputs": [],
   "source": []
  }
 ],
 "metadata": {
  "kernelspec": {
   "display_name": "Python 3",
   "language": "python",
   "name": "python3"
  },
  "language_info": {
   "codemirror_mode": {
    "name": "ipython",
    "version": 3
   },
   "file_extension": ".py",
   "mimetype": "text/x-python",
   "name": "python",
   "nbconvert_exporter": "python",
   "pygments_lexer": "ipython3",
   "version": "3.7.7"
  }
 },
 "nbformat": 4,
 "nbformat_minor": 4
}
